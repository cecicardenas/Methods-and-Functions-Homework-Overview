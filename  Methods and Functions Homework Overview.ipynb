{
 "cells": [
  {
   "cell_type": "code",
   "execution_count": 25,
   "id": "7de2c828",
   "metadata": {},
   "outputs": [],
   "source": [
    "import math\n",
    "def vol(rad):\n",
    "    vol = (4/3)*(math.pi*pow(rad,3))\n",
    "    return vol"
   ]
  },
  {
   "cell_type": "code",
   "execution_count": 27,
   "id": "b3dfc22c",
   "metadata": {},
   "outputs": [
    {
     "data": {
      "text/plain": [
       "2144.660584850632"
      ]
     },
     "execution_count": 27,
     "metadata": {},
     "output_type": "execute_result"
    }
   ],
   "source": [
    "vol(8)"
   ]
  },
  {
   "cell_type": "code",
   "execution_count": 34,
   "id": "53440fc9",
   "metadata": {},
   "outputs": [],
   "source": [
    "def ran_check(num,low,high):\n",
    "    if num>=low and num<=high:\n",
    "        return num,\" is in the range between \", low, \" and \", high\n",
    "    else:\n",
    "        return num,\" is not the range between \", low, \" and \", high"
   ]
  },
  {
   "cell_type": "code",
   "execution_count": 38,
   "id": "6f6b6762",
   "metadata": {},
   "outputs": [
    {
     "data": {
      "text/plain": [
       "(5, ' is in the range between ', 2, ' and ', 7)"
      ]
     },
     "execution_count": 38,
     "metadata": {},
     "output_type": "execute_result"
    }
   ],
   "source": [
    "ran_check(5,2,7)"
   ]
  },
  {
   "cell_type": "code",
   "execution_count": 39,
   "id": "f36c65e6",
   "metadata": {},
   "outputs": [],
   "source": [
    "def ran_bool(num,low,high):\n",
    "    if num>=low and num<=high:\n",
    "        return True\n",
    "    else:\n",
    "        return False\n",
    "    "
   ]
  },
  {
   "cell_type": "code",
   "execution_count": 40,
   "id": "bf286311",
   "metadata": {},
   "outputs": [
    {
     "data": {
      "text/plain": [
       "True"
      ]
     },
     "execution_count": 40,
     "metadata": {},
     "output_type": "execute_result"
    }
   ],
   "source": [
    "ran_bool(3,1,10)"
   ]
  },
  {
   "cell_type": "code",
   "execution_count": 59,
   "id": "e31718a9",
   "metadata": {},
   "outputs": [],
   "source": [
    "def up_low(s):\n",
    "    upper=0\n",
    "    lower=0\n",
    "    for leter in s:\n",
    "        if leter.isupper():\n",
    "            upper+=1\n",
    "        elif leter.islower():\n",
    "            lower+=1\n",
    "    return \"No. of Upper case characters: \",upper, \" No. of Lower case characters: \",lower"
   ]
  },
  {
   "cell_type": "code",
   "execution_count": 63,
   "id": "5fd095e7",
   "metadata": {},
   "outputs": [
    {
     "data": {
      "text/plain": [
       "('No. of Upper case characters: ', 4, ' No. of Lower case characters: ', 33)"
      ]
     },
     "execution_count": 63,
     "metadata": {},
     "output_type": "execute_result"
    }
   ],
   "source": [
    "up_low(\"Hello Mr. Rogers, how are you this fine Tuerday\")"
   ]
  },
  {
   "cell_type": "code",
   "execution_count": 70,
   "id": "2828240e",
   "metadata": {},
   "outputs": [],
   "source": [
    "def unique_list(lst):\n",
    "    #dict.fromkeys o set\n",
    "    unique=list(dict.fromkeys(lst))\n",
    "    return unique"
   ]
  },
  {
   "cell_type": "code",
   "execution_count": 68,
   "id": "bfea6583",
   "metadata": {},
   "outputs": [
    {
     "data": {
      "text/plain": [
       "[1, 2, 3, 4, 5]"
      ]
     },
     "execution_count": 68,
     "metadata": {},
     "output_type": "execute_result"
    }
   ],
   "source": [
    "unique_list([1,1,1,1,1,2,2,2,2,2,3,3,3,3,4,5])"
   ]
  },
  {
   "cell_type": "code",
   "execution_count": 71,
   "id": "f9eace5b",
   "metadata": {},
   "outputs": [],
   "source": [
    "def multiply(numbers):\n",
    "    mul=1\n",
    "    for num in numbers:\n",
    "        mul=num*mul\n",
    "    return mul"
   ]
  },
  {
   "cell_type": "code",
   "execution_count": 72,
   "id": "598ef3d1",
   "metadata": {},
   "outputs": [
    {
     "data": {
      "text/plain": [
       "-24"
      ]
     },
     "execution_count": 72,
     "metadata": {},
     "output_type": "execute_result"
    }
   ],
   "source": [
    "multiply([1,2,3,-4])"
   ]
  },
  {
   "cell_type": "code",
   "execution_count": 18,
   "id": "95a8ded0",
   "metadata": {},
   "outputs": [],
   "source": [
    "def palindrome(s):\n",
    "    s=s.replace(' ','')\n",
    "    inver=s[::-1]\n",
    "    if s == inver:\n",
    "        return True\n",
    "    else:\n",
    "        return False"
   ]
  },
  {
   "cell_type": "code",
   "execution_count": 19,
   "id": "f8500626",
   "metadata": {},
   "outputs": [
    {
     "data": {
      "text/plain": [
       "True"
      ]
     },
     "execution_count": 19,
     "metadata": {},
     "output_type": "execute_result"
    }
   ],
   "source": [
    "palindrome(\"nurses run\")"
   ]
  },
  {
   "cell_type": "code",
   "execution_count": 22,
   "id": "b3b06c3a",
   "metadata": {},
   "outputs": [],
   "source": [
    "import string\n",
    "def ispangram(str1, alphabet=string.ascii_lowercase):\n",
    "    str1=str1.lower()\n",
    "    str1=str1.replace(' ','')\n",
    "    str1=set(str1)\n",
    "    for leter in alphabet:\n",
    "        if leter in str1:\n",
    "            return True\n",
    "        else:\n",
    "            return False"
   ]
  },
  {
   "cell_type": "code",
   "execution_count": 23,
   "id": "2b81811b",
   "metadata": {},
   "outputs": [
    {
     "data": {
      "text/plain": [
       "True"
      ]
     },
     "execution_count": 23,
     "metadata": {},
     "output_type": "execute_result"
    }
   ],
   "source": [
    "ispangram(\"The quick brown fox jumps over the lazy dog\")"
   ]
  },
  {
   "cell_type": "code",
   "execution_count": 24,
   "id": "7432206d",
   "metadata": {},
   "outputs": [
    {
     "data": {
      "text/plain": [
       "False"
      ]
     },
     "execution_count": 24,
     "metadata": {},
     "output_type": "execute_result"
    }
   ],
   "source": [
    "ispangram(\"Hello\")"
   ]
  },
  {
   "cell_type": "code",
   "execution_count": null,
   "id": "311859af",
   "metadata": {},
   "outputs": [],
   "source": []
  }
 ],
 "metadata": {
  "kernelspec": {
   "display_name": "Python 3",
   "language": "python",
   "name": "python3"
  },
  "language_info": {
   "codemirror_mode": {
    "name": "ipython",
    "version": 3
   },
   "file_extension": ".py",
   "mimetype": "text/x-python",
   "name": "python",
   "nbconvert_exporter": "python",
   "pygments_lexer": "ipython3",
   "version": "3.8.8"
  }
 },
 "nbformat": 4,
 "nbformat_minor": 5
}
